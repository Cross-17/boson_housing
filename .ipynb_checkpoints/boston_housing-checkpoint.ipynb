{
 "cells": [
  {
   "cell_type": "markdown",
   "metadata": {
    "nbpresent": {
     "id": "fe207323-f5ae-42ab-8a02-6ea151307582"
    }
   },
   "source": [
    "# Machine Learning Engineer Nanodegree\n",
    "## Model Evaluation & Validation\n",
    "## Project: Predicting Boston Housing Prices\n",
    "\n",
    "Welcome to the first project of the Machine Learning Engineer Nanodegree! In this notebook, some template code has already been provided for you, and you will need to implement additional functionality to successfully complete this project. You will not need to modify the included code beyond what is requested. Sections that begin with **'Implementation'** in the header indicate that the following block of code will require additional functionality which you must provide. Instructions will be provided for each section and the specifics of the implementation are marked in the code block with a 'TODO' statement. Please be sure to read the instructions carefully!\n",
    "\n",
    "In addition to implementing code, there will be questions that you must answer which relate to the project and your implementation. Each section where you will answer a question is preceded by a **'Question X'** header. Carefully read each question and provide thorough answers in the following text boxes that begin with **'Answer:'**. Your project submission will be evaluated based on your answers to each of the questions and the implementation you provide.  \n",
    "\n",
    ">**Note:** Code and Markdown cells can be executed using the **Shift + Enter** keyboard shortcut. In addition, Markdown cells can be edited by typically double-clicking the cell to enter edit mode."
   ]
  },
  {
   "cell_type": "markdown",
   "metadata": {
    "nbpresent": {
     "id": "23d355e5-2ec2-4987-91fb-e70c0bb26b0e"
    }
   },
   "source": [
    "## Getting Started\n",
    "In this project, you will evaluate the performance and predictive power of a model that has been trained and tested on data collected from homes in suburbs of Boston, Massachusetts. A model trained on this data that is seen as a *good fit* could then be used to make certain predictions about a home — in particular, its monetary value. This model would prove to be invaluable for someone like a real estate agent who could make use of such information on a daily basis.\n",
    "\n",
    "The dataset for this project originates from the [UCI Machine Learning Repository](https://archive.ics.uci.edu/ml/datasets/Housing). The Boston housing data was collected in 1978 and each of the 506 entries represent aggregated data about 14 features for homes from various suburbs in Boston, Massachusetts. For the purposes of this project, the following preprocessing steps have been made to the dataset:\n",
    "- 16 data points have an `'MEDV'` value of 50.0. These data points likely contain **missing or censored values** and have been removed.\n",
    "- 1 data point has an `'RM'` value of 8.78. This data point can be considered an **outlier** and has been removed.\n",
    "- The features `'RM'`, `'LSTAT'`, `'PTRATIO'`, and `'MEDV'` are essential. The remaining **non-relevant features** have been excluded.\n",
    "- The feature `'MEDV'` has been **multiplicatively scaled** to account for 35 years of market inflation.\n",
    "\n",
    "Run the code cell below to load the Boston housing dataset, along with a few of the necessary Python libraries required for this project. You will know the dataset loaded successfully if the size of the dataset is reported."
   ]
  },
  {
   "cell_type": "code",
   "execution_count": 9,
   "metadata": {
    "collapsed": false,
    "nbpresent": {
     "id": "44b198c7-7bbf-4420-a227-353ae00e5a24"
    }
   },
   "outputs": [
    {
     "name": "stdout",
     "output_type": "stream",
     "text": [
      "Boston housing dataset has 489 data points with 4 variables each.\n"
     ]
    }
   ],
   "source": [
    "# Import libraries necessary for this project\n",
    "import numpy as np\n",
    "import pandas as pd\n",
    "from sklearn.cross_validation import ShuffleSplit\n",
    "\n",
    "# Import supplementary visualizations code visuals.py\n",
    "import visuals as vs\n",
    "\n",
    "# Pretty display for notebooks\n",
    "%matplotlib inline\n",
    "\n",
    "# Load the Boston housing dataset\n",
    "data = pd.read_csv('housing.csv')\n",
    "prices = data['MEDV']\n",
    "features = data.drop('MEDV', axis = 1)\n",
    "    \n",
    "# Success\n",
    "print \"Boston housing dataset has {} data points with {} variables each.\".format(*data.shape)"
   ]
  },
  {
   "cell_type": "markdown",
   "metadata": {
    "nbpresent": {
     "id": "b8dfea98-8a58-4108-b6ca-328abb1a2eed"
    }
   },
   "source": [
    "## Data Exploration\n",
    "In this first section of this project, you will make a cursory investigation about the Boston housing data and provide your observations. Familiarizing yourself with the data through an explorative process is a fundamental practice to help you better understand and justify your results.\n",
    "\n",
    "Since the main goal of this project is to construct a working model which has the capability of predicting the value of houses, we will need to separate the dataset into **features** and the **target variable**. The **features**, `'RM'`, `'LSTAT'`, and `'PTRATIO'`, give us quantitative information about each data point. The **target variable**, `'MEDV'`, will be the variable we seek to predict. These are stored in `features` and `prices`, respectively."
   ]
  },
  {
   "cell_type": "markdown",
   "metadata": {
    "nbpresent": {
     "id": "14054cd5-08b7-4655-b144-e62fe7ee71bb"
    }
   },
   "source": [
    "### Implementation: Calculate Statistics\n",
    "For your very first coding implementation, you will calculate descriptive statistics about the Boston housing prices. Since `numpy` has already been imported for you, use this library to perform the necessary calculations. These statistics will be extremely important later on to analyze various prediction results from the constructed model.\n",
    "\n",
    "In the code cell below, you will need to implement the following:\n",
    "- Calculate the minimum, maximum, mean, median, and standard deviation of `'MEDV'`, which is stored in `prices`.\n",
    "  - Store each calculation in their respective variable."
   ]
  },
  {
   "cell_type": "code",
   "execution_count": 10,
   "metadata": {
    "collapsed": false,
    "nbpresent": {
     "id": "7d2edfaa-40b4-4384-9db4-7b3b6a87020e"
    }
   },
   "outputs": [
    {
     "name": "stdout",
     "output_type": "stream",
     "text": [
      "Statistics for Boston housing dataset:\n",
      "\n",
      "Minimum price: $105,000.00\n",
      "Maximum price: $1,024,800.00\n",
      "Mean price: $454,342.94\n",
      "Median price $438,900.00\n",
      "Standard deviation of prices: $165,171.13\n"
     ]
    }
   ],
   "source": [
    "# TODO: Minimum price of the data\n",
    "minimum_price = np.min(prices)\n",
    "\n",
    "# TODO: Maximum price of the data\n",
    "maximum_price = np.max(prices)\n",
    "\n",
    "# TODO: Mean price of the data\n",
    "mean_price = np.mean(prices)\n",
    "\n",
    "# TODO: Median price of the data\n",
    "median_price = np.median(prices)\n",
    "\n",
    "# TODO: Standard deviation of prices of the data\n",
    "std_price = np.std(prices)\n",
    "\n",
    "# Show the calculated statistics\n",
    "print \"Statistics for Boston housing dataset:\\n\"\n",
    "print \"Minimum price: ${:,.2f}\".format(minimum_price)\n",
    "print \"Maximum price: ${:,.2f}\".format(maximum_price)\n",
    "print \"Mean price: ${:,.2f}\".format(mean_price)\n",
    "print \"Median price ${:,.2f}\".format(median_price)\n",
    "print \"Standard deviation of prices: ${:,.2f}\".format(std_price)"
   ]
  },
  {
   "cell_type": "markdown",
   "metadata": {
    "nbpresent": {
     "id": "5d84591a-79ef-494d-9cda-955416a6c4e3"
    }
   },
   "source": [
    "### Question 1 - Feature Observation\n",
    "As a reminder, we are using three features from the Boston housing dataset: `'RM'`, `'LSTAT'`, and `'PTRATIO'`. For each data point (neighborhood):\n",
    "- `'RM'` is the average number of rooms among homes in the neighborhood.\n",
    "- `'LSTAT'` is the percentage of homeowners in the neighborhood considered \"lower class\" (working poor).\n",
    "- `'PTRATIO'` is the ratio of students to teachers in primary and secondary schools in the neighborhood.\n",
    "\n",
    "_Using your intuition, for each of the three features above, do you think that an increase in the value of that feature would lead to an **increase** in the value of `'MEDV'` or a **decrease** in the value of `'MEDV'`? Justify your answer for each._  \n",
    "**Hint:** Would you expect a home that has an `'RM'` value of 6 be worth more or less than a home that has an `'RM'` value of 7?"
   ]
  },
  {
   "cell_type": "markdown",
   "metadata": {
    "nbpresent": {
     "id": "4fa868f3-dffe-4408-bcfb-b555258c650e"
    }
   },
   "source": [
    "**Answer: **\n",
    "\n",
    "RM: Assuming that the size of rooms are relatively close, more rooms means more size of the house,thus increase the RM would lead to the increase of MEDV.\n",
    "\n",
    "LSTAT: Compared to \"lower class\" neighbor people are generally more willing to live with \"high class\" neighbor, thus increase of LSTAT would lead to decrease of MEDV.\n",
    "\n",
    "PTRATIO: In low student-to-teacher ratio area, teachers could take more care of each student, compared to in high student-to-teacher ratio area.People generally would whsh their child to be more taken care of, Thus increase in PTRATIO would lead to decrease in MEDV."
   ]
  },
  {
   "cell_type": "markdown",
   "metadata": {
    "nbpresent": {
     "id": "ea81aef5-16e0-41bc-998b-f04af73f7243"
    }
   },
   "source": [
    "----\n",
    "\n",
    "## Developing a Model\n",
    "In this second section of the project, you will develop the tools and techniques necessary for a model to make a prediction. Being able to make accurate evaluations of each model's performance through the use of these tools and techniques helps to greatly reinforce the confidence in your predictions."
   ]
  },
  {
   "cell_type": "markdown",
   "metadata": {
    "nbpresent": {
     "id": "25bd385e-ed80-4b26-8168-76c602e29239"
    }
   },
   "source": [
    "# Implementation: Define a Performance Metric\n",
    "It is difficult to measure the quality of a given model without quantifying its performance over training and testing. This is typically done using some type of performance metric, whether it is through calculating some type of error, the goodness of fit, or some other useful measurement. For this project, you will be calculating the [*coefficient of determination*](http://stattrek.com/statistics/dictionary.aspx?definition=coefficient_of_determination), R<sup>2</sup>, to quantify your model's performance. The coefficient of determination for a model is a useful statistic in regression analysis, as it often describes how \"good\" that model is at making predictions. \n",
    "\n",
    "The values for R<sup>2</sup> range from 0 to 1, which captures the percentage of squared correlation between the predicted and actual values of the **target variable**. A model with an R<sup>2</sup> of 0 is no better than a model that always predicts the *mean* of the target variable, whereas a model with an R<sup>2</sup> of 1 perfectly predicts the target variable. Any value between 0 and 1 indicates what percentage of the target variable, using this model, can be explained by the **features**. _A model can be given a negative R<sup>2</sup> as well, which indicates that the model is **arbitrarily worse** than one that always predicts the mean of the target variable._\n",
    "\n",
    "For the `performance_metric` function in the code cell below, you will need to implement the following:\n",
    "- Use `r2_score` from `sklearn.metrics` to perform a performance calculation between `y_true` and `y_predict`.\n",
    "- Assign the performance score to the `score` variable."
   ]
  },
  {
   "cell_type": "code",
   "execution_count": 11,
   "metadata": {
    "collapsed": false,
    "nbpresent": {
     "id": "1950fb9c-eeb1-498d-9e13-c92a77621a61"
    }
   },
   "outputs": [],
   "source": [
    "# TODO: Import 'r2_score'\n",
    "from sklearn.metrics import r2_score\n",
    "def performance_metric(y_true, y_predict):\n",
    "    \"\"\" Calculates and returns the performance score between \n",
    "        true and predicted values based on the metric chosen. \"\"\"\n",
    "    \n",
    "    # TODO: Calculate the performance score between 'y_true' and 'y_predict'\n",
    "    score = r2_score(y_true, y_predict)\n",
    "    \n",
    "    # Return the score\n",
    "    return score"
   ]
  },
  {
   "cell_type": "markdown",
   "metadata": {
    "nbpresent": {
     "id": "78bc490e-8823-4d18-a19a-62fc29ee9e9d"
    }
   },
   "source": [
    "### Question 2 - Goodness of Fit\n",
    "Assume that a dataset contains five data points and a model made the following predictions for the target variable:\n",
    "\n",
    "| True Value | Prediction |\n",
    "| :-------------: | :--------: |\n",
    "| 3.0 | 2.5 |\n",
    "| -0.5 | 0.0 |\n",
    "| 2.0 | 2.1 |\n",
    "| 7.0 | 7.8 |\n",
    "| 4.2 | 5.3 |\n",
    "*Would you consider this model to have successfully captured the variation of the target variable? Why or why not?* \n",
    "\n",
    "Run the code cell below to use the `performance_metric` function and calculate this model's coefficient of determination."
   ]
  },
  {
   "cell_type": "code",
   "execution_count": 12,
   "metadata": {
    "collapsed": false,
    "nbpresent": {
     "id": "32404742-7997-47b3-8771-853f5c79be28"
    }
   },
   "outputs": [
    {
     "name": "stdout",
     "output_type": "stream",
     "text": [
      "Model has a coefficient of determination, R^2, of 0.923.\n"
     ]
    }
   ],
   "source": [
    "# Calculate the performance of this model\n",
    "score = performance_metric([3, -0.5, 2, 7, 4.2], [2.5, 0.0, 2.1, 7.8, 5.3])\n",
    "print \"Model has a coefficient of determination, R^2, of {:.3f}.\".format(score)"
   ]
  },
  {
   "cell_type": "markdown",
   "metadata": {
    "nbpresent": {
     "id": "d871c3ed-ad7e-4bd8-ae3b-97d96a766dc3"
    }
   },
   "source": [
    "**Answer:**\n",
    "We got R2 socre of 0.923, which is very close to the best result,which is 1. \n",
    "So we could say this model has done a good job on predicting the value, it have successfully captured the variation of the target variable."
   ]
  },
  {
   "cell_type": "markdown",
   "metadata": {
    "nbpresent": {
     "id": "b9c1d075-45a3-423d-bc3c-0b3481796c07"
    }
   },
   "source": [
    "### Implementation: Shuffle and Split Data\n",
    "Your next implementation requires that you take the Boston housing dataset and split the data into training and testing subsets. Typically, the data is also shuffled into a random order when creating the training and testing subsets to remove any bias in the ordering of the dataset.\n",
    "\n",
    "For the code cell below, you will need to implement the following:\n",
    "- Use `train_test_split` from `sklearn.cross_validation` to shuffle and split the `features` and `prices` data into training and testing sets.\n",
    "  - Split the data into 80% training and 20% testing.\n",
    "  - Set the `random_state` for `train_test_split` to a value of your choice. This ensures results are consistent.\n",
    "- Assign the train and testing splits to `X_train`, `X_test`, `y_train`, and `y_test`."
   ]
  },
  {
   "cell_type": "code",
   "execution_count": 13,
   "metadata": {
    "collapsed": false,
    "nbpresent": {
     "id": "64ed7de9-67ec-4ea1-b2c0-3f8e2bccf6d4"
    }
   },
   "outputs": [
    {
     "name": "stdout",
     "output_type": "stream",
     "text": [
      "Training and testing split was successful.\n"
     ]
    }
   ],
   "source": [
    "# TODO: Import 'train_test_split'\n",
    "from sklearn.cross_validation import train_test_split\n",
    "# TODO: Shuffle and split the data into training and testing subsets\n",
    "X_train, X_test, y_train, y_test = train_test_split(features, prices, test_size=0.2, random_state=42)\n",
    "\n",
    "# Success\n",
    "print \"Training and testing split was successful.\""
   ]
  },
  {
   "cell_type": "markdown",
   "metadata": {
    "nbpresent": {
     "id": "cc29c88a-d236-46ef-acdd-efbb4d8f6a93"
    }
   },
   "source": [
    "### Question 3 - Training and Testing\n",
    "*What is the benefit to splitting a dataset into some ratio of training and testing subsets for a learning algorithm?*  \n",
    "**Hint:** What could go wrong with not having a way to test your model?"
   ]
  },
  {
   "cell_type": "markdown",
   "metadata": {
    "nbpresent": {
     "id": "81557e71-c8b2-40ff-ba24-1983345edc58"
    }
   },
   "source": [
    "**Answer: **\n",
    "It avoids overfitting, which is machine learning classifier learning too complicated dataset pattern which often make it have good performance on training while bad performance in practice.  "
   ]
  },
  {
   "cell_type": "markdown",
   "metadata": {
    "nbpresent": {
     "id": "a3cc81c1-4375-4a82-aa0f-117b0b2446ba"
    }
   },
   "source": [
    "----\n",
    "\n",
    "## Analyzing Model Performance\n",
    "In this third section of the project, you'll take a look at several models' learning and testing performances on various subsets of training data. Additionally, you'll investigate one particular algorithm with an increasing `'max_depth'` parameter on the full training set to observe how model complexity affects performance. Graphing your model's performance based on varying criteria can be beneficial in the analysis process, such as visualizing behavior that may not have been apparent from the results alone."
   ]
  },
  {
   "cell_type": "markdown",
   "metadata": {
    "nbpresent": {
     "id": "a7cec2f9-6b5e-41e5-8836-8c63d5499ce5"
    }
   },
   "source": [
    "### Learning Curves\n",
    "The following code cell produces four graphs for a decision tree model with different maximum depths. Each graph visualizes the learning curves of the model for both training and testing as the size of the training set is increased. Note that the shaded region of a learning curve denotes the uncertainty of that curve (measured as the standard deviation). The model is scored on both the training and testing sets using R<sup>2</sup>, the coefficient of determination.  \n",
    "\n",
    "Run the code cell below and use these graphs to answer the following question."
   ]
  },
  {
   "cell_type": "code",
   "execution_count": 17,
   "metadata": {
    "collapsed": false,
    "nbpresent": {
     "id": "65cd9510-964b-44fb-a010-390ade6de4d0"
    },
    "scrolled": false
   },
   "outputs": [
    {
     "data": {
      "image/png": "[encoded data removed]",
      "text/plain": [
       "<matplotlib.figure.Figure at 0xbc9d490>"
      ]
     },
     "metadata": {},
     "output_type": "display_data"
    }
   ],
   "source": [
    "# Produce learning curves for varying training set sizes and maximum depths\n",
    "vs.ModelLearning(features, prices)"
   ]
  },
  {
   "cell_type": "markdown",
   "metadata": {
    "nbpresent": {
     "id": "070a4444-ebc0-48d0-adce-a2b19431cb0b"
    }
   },
   "source": [
    "### Question 4 - Learning the Data\n",
    "*Choose one of the graphs above and state the maximum depth for the model. What happens to the score of the training curve as more training points are added? What about the testing curve? Would having more training points benefit the model?*  \n",
    "**Hint:** Are the learning curves converging to particular scores?"
   ]
  },
  {
   "cell_type": "markdown",
   "metadata": {
    "nbpresent": {
     "id": "2c9f5b70-f844-4bfb-8fa4-4d7f5c50e13b"
    }
   },
   "source": [
    "**Answer: **\n",
    "while max_depth is 1, the training curve and testing curve converge early at around 0.5 in R2 socre. They start converge at 50 point of training point, stable after 300 training point. \n",
    "Increasing training point won't make impact on both training curve and testing curve, since they reach stable after training point of 300. More tranining point won't benifit this model since both curve reach stable."
   ]
  },
  {
   "cell_type": "markdown",
   "metadata": {
    "nbpresent": {
     "id": "73daf9e1-6a03-42d7-9b83-ccd211e2c4f2"
    }
   },
   "source": [
    "### Complexity Curves\n",
    "The following code cell produces a graph for a decision tree model that has been trained and validated on the training data using different maximum depths. The graph produces two complexity curves — one for training and one for validation. Similar to the **learning curves**, the shaded regions of both the complexity curves denote the uncertainty in those curves, and the model is scored on both the training and validation sets using the `performance_metric` function.  \n",
    "\n",
    "Run the code cell below and use this graph to answer the following two questions."
   ]
  },
  {
   "cell_type": "code",
   "execution_count": 18,
   "metadata": {
    "collapsed": false,
    "nbpresent": {
     "id": "7df7fb1d-4901-4559-96b7-6773208fc075"
    }
   },
   "outputs": [
    {
     "data": {
      "image/png": "[encoded data removed]",
      "text/plain": [
       "<matplotlib.figure.Figure at 0x4528b90>"
      ]
     },
     "metadata": {},
     "output_type": "display_data"
    }
   ],
   "source": [
    "vs.ModelComplexity(X_train, y_train)"
   ]
  },
  {
   "cell_type": "markdown",
   "metadata": {
    "nbpresent": {
     "id": "be83e1d5-80ad-44f7-a675-97eb80012635"
    }
   },
   "source": [
    "### Question 5 - Bias-Variance Tradeoff\n",
    "*When the model is trained with a maximum depth of 1, does the model suffer from high bias or from high variance? How about when the model is trained with a maximum depth of 10? What visual cues in the graph justify your conclusions?*  \n",
    "**Hint:** How do you know when a model is suffering from high bias or high variance?"
   ]
  },
  {
   "cell_type": "markdown",
   "metadata": {
    "nbpresent": {
     "id": "79c51026-0b91-41c5-a82e-3bb6591df171"
    }
   },
   "source": [
    "**Answer: **\n",
    "When trained with maximum depth of 1, the model is suffering with high bias, since the traning and validation socre converge to a relatively low socre, which means this model did not predict the data well.\n",
    "\n",
    "When trained with maximum depth of 10, the model is suffering with high variance, since the training score is high while validation score is low, which means this model overfits with training data."
   ]
  },
  {
   "cell_type": "markdown",
   "metadata": {
    "nbpresent": {
     "id": "8febe42c-6620-4e19-a553-103136a2833d"
    }
   },
   "source": [
    "### Question 6 - Best-Guess Optimal Model\n",
    "*Which maximum depth do you think results in a model that best generalizes to unseen data? What intuition lead you to this answer?*"
   ]
  },
  {
   "cell_type": "markdown",
   "metadata": {
    "nbpresent": {
     "id": "41a1d1cc-2597-418f-baf9-1a566ee21de1"
    }
   },
   "source": [
    "**Answer: **\n",
    "3\n",
    "The training curve and testing curve converged at a relatively high R2 socre."
   ]
  },
  {
   "cell_type": "markdown",
   "metadata": {
    "nbpresent": {
     "id": "993009be-a811-44df-a769-69f46f64ad7a"
    }
   },
   "source": [
    "-----\n",
    "\n",
    "## Evaluating Model Performance\n",
    "In this final section of the project, you will construct a model and make a prediction on the client's feature set using an optimized model from `fit_model`."
   ]
  },
  {
   "cell_type": "markdown",
   "metadata": {
    "nbpresent": {
     "id": "489b1f4d-c2e4-4b40-bc8f-a53835a37d19"
    }
   },
   "source": [
    "### Question 7 - Grid Search\n",
    "*What is the grid search technique and how it can be applied to optimize a learning algorithm?*"
   ]
  },
  {
   "cell_type": "markdown",
   "metadata": {
    "nbpresent": {
     "id": "762a344f-1b5b-422d-a2ee-b3c0e467b42a"
    }
   },
   "source": [
    "**Answer: **\n",
    "Grid search is a way of working through multiple combinations of parameters.\n",
    "It could determine the optimal combinations of parameters with cross-validation."
   ]
  },
  {
   "cell_type": "markdown",
   "metadata": {
    "nbpresent": {
     "id": "edaaf7a1-0b70-484a-814c-551ff00f8229"
    }
   },
   "source": [
    "### Question 8 - Cross-Validation\n",
    "*What is the k-fold cross-validation training technique? What benefit does this technique provide for grid search when optimizing a model?*  \n",
    "**Hint:** Much like the reasoning behind having a testing set, what could go wrong with using grid search without a cross-validated set?"
   ]
  },
  {
   "cell_type": "markdown",
   "metadata": {
    "nbpresent": {
     "id": "905ef7e0-5212-4094-8954-e657d14d9ecc"
    }
   },
   "source": [
    "**Answer: **\n",
    "k-fold crossvalidation: Shuffle and split the dataset into k equal sized sub-datasets,then run the learning algorithm k times, with each sub-dataset as test dataset once,remaining k-1 sub-dataset as training dataset.\n",
    "\n",
    "With cross-validation, grid search coould find the optimal more systematically, with few extra line of code.\n",
    "\n"
   ]
  },
  {
   "cell_type": "markdown",
   "metadata": {
    "nbpresent": {
     "id": "846172da-9c6b-4ebc-ba18-a1c175683bcd"
    }
   },
   "source": [
    "### Implementation: Fitting a Model\n",
    "Your final implementation requires that you bring everything together and train a model using the **decision tree algorithm**. To ensure that you are producing an optimized model, you will train the model using the grid search technique to optimize the `'max_depth'` parameter for the decision tree. The `'max_depth'` parameter can be thought of as how many questions the decision tree algorithm is allowed to ask about the data before making a prediction. Decision trees are part of a class of algorithms called *supervised learning algorithms*.\n",
    "\n",
    "In addition, you will find your implementation is using `ShuffleSplit()` for an alternative form of cross-validation (see the `'cv_sets'` variable). While it is not the K-Fold cross-validation technique you describe in **Question 8**, this type of cross-validation technique is just as useful!. The `ShuffleSplit()` implementation below will create 10 (`'n_iter'`) shuffled sets, and for each shuffle, 20% (`'test_size'`) of the data will be used as the *validation set*. While you're working on your implementation, think about the contrasts and similarities it has to the K-fold cross-validation technique.\n",
    "\n",
    "For the `fit_model` function in the code cell below, you will need to implement the following:\n",
    "- Use [`DecisionTreeRegressor`](http://scikit-learn.org/stable/modules/generated/sklearn.tree.DecisionTreeRegressor.html) from `sklearn.tree` to create a decision tree regressor object.\n",
    "  - Assign this object to the `'regressor'` variable.\n",
    "- Create a dictionary for `'max_depth'` with the values from 1 to 10, and assign this to the `'params'` variable.\n",
    "- Use [`make_scorer`](http://scikit-learn.org/stable/modules/generated/sklearn.metrics.make_scorer.html) from `sklearn.metrics` to create a scoring function object.\n",
    "  - Pass the `performance_metric` function as a parameter to the object.\n",
    "  - Assign this scoring function to the `'scoring_fnc'` variable.\n",
    "- Use [`GridSearchCV`](http://scikit-learn.org/0.17/modules/generated/sklearn.grid_search.GridSearchCV.html) from `sklearn.grid_search` to create a grid search object.\n",
    "  - Pass the variables `'regressor'`, `'params'`, `'scoring_fnc'`, and `'cv_sets'` as parameters to the object. \n",
    "  - Assign the `GridSearchCV` object to the `'grid'` variable."
   ]
  },
  {
   "cell_type": "code",
   "execution_count": 14,
   "metadata": {
    "collapsed": false,
    "nbpresent": {
     "id": "e37dc399-44b9-4f4d-b18f-fe12f37c808c"
    }
   },
   "outputs": [],
   "source": [
    "# TODO: Import 'make_scorer', 'DecisionTreeRegressor', and 'GridSearchCV'\n",
    "from sklearn.tree import DecisionTreeRegressor\n",
    "from sklearn.metrics import make_scorer\n",
    "from sklearn.grid_search import GridSearchCV\n",
    "def fit_model(X, y):\n",
    "    \"\"\" Performs grid search over the 'max_depth' parameter for a \n",
    "        decision tree regressor trained on the input data [X, y]. \"\"\"\n",
    "    \n",
    "    # Create cross-validation sets from the training data\n",
    "    cv_sets = ShuffleSplit(X.shape[0], n_iter = 10, test_size = 0.20, random_state = 0)\n",
    "\n",
    "    # TODO: Create a decision tree regressor object\n",
    "    regressor = DecisionTreeRegressor(random_state=10)\n",
    "\n",
    "    # TODO: Create a dictionary for the parameter 'max_depth' with a range from 1 to 10\n",
    "    params = params = {'max_depth': [1,2,3,4,5,6,7,8,9,10]}\n",
    "    \n",
    "\n",
    "    # TODO: Transform 'performance_metric' into a scoring function using 'make_scorer' \n",
    "    scoring_fnc = make_scorer(performance_metric)\n",
    "\n",
    "    # TODO: Create the grid search object\n",
    "    grid = GridSearchCV(regressor, params, scoring_fnc,cv =  cv_sets)\n",
    "\n",
    "    # Fit the grid search object to the data to compute the optimal model\n",
    "    grid = grid.fit(X, y)\n",
    "\n",
    "    # Return the optimal model after fitting the data\n",
    "    return grid.best_estimator_"
   ]
  },
  {
   "cell_type": "markdown",
   "metadata": {
    "nbpresent": {
     "id": "82bee64f-8a7f-49b7-b52d-79521b82de9f"
    }
   },
   "source": [
    "### Making Predictions\n",
    "Once a model has been trained on a given set of data, it can now be used to make predictions on new sets of input data. In the case of a *decision tree regressor*, the model has learned *what the best questions to ask about the input data are*, and can respond with a prediction for the **target variable**. You can use these predictions to gain information about data where the value of the target variable is unknown — such as data the model was not trained on."
   ]
  },
  {
   "cell_type": "markdown",
   "metadata": {
    "nbpresent": {
     "id": "d7aee56c-1046-404c-8e6c-b3e934ba7a8b"
    }
   },
   "source": [
    "### Question 9 - Optimal Model\n",
    "_What maximum depth does the optimal model have? How does this result compare to your guess in **Question 6**?_  \n",
    "\n",
    "Run the code block below to fit the decision tree regressor to the training data and produce an optimal model."
   ]
  },
  {
   "cell_type": "code",
   "execution_count": 15,
   "metadata": {
    "collapsed": false,
    "nbpresent": {
     "id": "21e3ec07-4904-4871-8938-a9a5462e3df5"
    },
    "scrolled": true
   },
   "outputs": [
    {
     "name": "stdout",
     "output_type": "stream",
     "text": [
      "Parameter 'max_depth' is 4 for the optimal model.\n"
     ]
    }
   ],
   "source": [
    "# Fit the training data to the model using grid search\n",
    "reg = fit_model(X_train, y_train)\n",
    "\n",
    "# Produce the value for 'max_depth'\n",
    "print \"Parameter 'max_depth' is {} for the optimal model.\".format(reg.get_params()['max_depth'])"
   ]
  },
  {
   "cell_type": "markdown",
   "metadata": {
    "nbpresent": {
     "id": "937893bc-7460-4495-b9fd-fc6dfec0aed2"
    }
   },
   "source": [
    "**Answer: **\n",
    "The optimal value is 4, 1 bigger than my guess '3' in question 6."
   ]
  },
  {
   "cell_type": "markdown",
   "metadata": {
    "nbpresent": {
     "id": "74aa6779-ef84-48a8-992d-88690338beea"
    }
   },
   "source": [
    "### Question 10 - Predicting Selling Prices\n",
    "Imagine that you were a real estate agent in the Boston area looking to use this model to help price homes owned by your clients that they wish to sell. You have collected the following information from three of your clients:\n",
    "\n",
    "| Feature | Client 1 | Client 2 | Client 3 |\n",
    "| :---: | :---: | :---: | :---: |\n",
    "| Total number of rooms in home | 5 rooms | 4 rooms | 8 rooms |\n",
    "| Neighborhood poverty level (as %) | 17% | 32% | 3% |\n",
    "| Student-teacher ratio of nearby schools | 15-to-1 | 22-to-1 | 12-to-1 |\n",
    "*What price would you recommend each client sell his/her home at? Do these prices seem reasonable given the values for the respective features?*  \n",
    "**Hint:** Use the statistics you calculated in the **Data Exploration** section to help justify your response.  \n",
    "\n",
    "Run the code block below to have your optimized model make predictions for each client's home."
   ]
  },
  {
   "cell_type": "code",
   "execution_count": 16,
   "metadata": {
    "collapsed": false,
    "nbpresent": {
     "id": "3f3ed9b1-fcce-4688-a159-3ebe9ccbd4be"
    }
   },
   "outputs": [
    {
     "name": "stdout",
     "output_type": "stream",
     "text": [
      "Predicted selling price for Client 1's home: $403,025.00\n",
      "Predicted selling price for Client 2's home: $237,478.72\n",
      "Predicted selling price for Client 3's home: $931,636.36\n"
     ]
    }
   ],
   "source": [
    "# Produce a matrix for client data\n",
    "client_data = [[5, 17, 15], # Client 1\n",
    "               [4, 32, 22], # Client 2\n",
    "               [8, 3, 12]]  # Client 3\n",
    "\n",
    "# Show predictions\n",
    "for i, price in enumerate(reg.predict(client_data)):\n",
    "    print \"Predicted selling price for Client {}'s home: ${:,.2f}\".format(i+1, price)"
   ]
  },
  {
   "cell_type": "markdown",
   "metadata": {
    "nbpresent": {
     "id": "566ebec6-6135-45e4-86c0-ee06296dc257"
    }
   },
   "source": [
    "**Answer: **\n",
    "\n",
    "Based on prediction from  machine learning classifier, I would recommend:\n",
    "Client 1's home:  around $400,000.00\n",
    "\n",
    "Client 2's home:  around $240,000.00\n",
    "\n",
    "Client 3's home:  around $930,000.00\n",
    "\n",
    "The prediction from machine learning classifier seems resonable,since all of them falls into the range of historical price.\n",
    "Moreover, the result also correspond to our observation of dataset in question 1: increase the room number would lead to the increase of price;increase the poverty level would lead to the decrease of MEDV;increase the student-teacher ratio would lead to the decrease of price. "
   ]
  },
  {
   "cell_type": "markdown",
   "metadata": {
    "nbpresent": {
     "id": "3610398a-60af-4bff-aa92-d4ff7938ae9c"
    }
   },
   "source": [
    "### Sensitivity\n",
    "An optimal model is not necessarily a robust model. Sometimes, a model is either too complex or too simple to sufficiently generalize to new data. Sometimes, a model could use a learning algorithm that is not appropriate for the structure of the data given. Other times, the data itself could be too noisy or contain too few samples to allow a model to adequately capture the target variable — i.e., the model is underfitted. Run the code cell below to run the `fit_model` function ten times with different training and testing sets to see how the prediction for a specific client changes with the data it's trained on."
   ]
  },
  {
   "cell_type": "code",
   "execution_count": 17,
   "metadata": {
    "collapsed": false,
    "nbpresent": {
     "id": "9659b2c0-bb77-4457-a407-84d720d4fc58"
    }
   },
   "outputs": [
    {
     "name": "stdout",
     "output_type": "stream",
     "text": [
      "Trial 1: $391,183.33\n",
      "Trial 2: $424,935.00\n",
      "Trial 3: $415,800.00\n",
      "Trial 4: $420,622.22\n",
      "Trial 5: $418,377.27\n",
      "Trial 6: $411,931.58\n",
      "Trial 7: $399,663.16\n",
      "Trial 8: $407,232.00\n",
      "Trial 9: $351,577.61\n",
      "Trial 10: $413,700.00\n",
      "\n",
      "Range in prices: $73,357.39\n"
     ]
    }
   ],
   "source": [
    "vs.PredictTrials(features, prices, fit_model, client_data)"
   ]
  },
  {
   "cell_type": "markdown",
   "metadata": {
    "nbpresent": {
     "id": "d0d0feeb-77e5-48ec-bf1f-04bb1bbd36a5"
    }
   },
   "source": [
    "### Question 11 - Applicability\n",
    "*In a few sentences, discuss whether the constructed model should or should not be used in a real-world setting.*  \n",
    "**Hint:** Some questions to answering:\n",
    "- *How relevant today is data that was collected from 1978?*\n",
    "- *Are the features present in the data sufficient to describe a home?*\n",
    "- *Is the model robust enough to make consistent predictions?*\n",
    "- *Would data collected in an urban city like Boston be applicable in a rural city?*"
   ]
  },
  {
   "cell_type": "markdown",
   "metadata": {
    "nbpresent": {
     "id": "baef19f7-ba05-4fb2-885d-3a44ed11ecda"
    }
   },
   "source": [
    "**Answer: **\n",
    "\n",
    "It should not be used in real-world setting. The data was collected from around 40 years ago in a urban city, thus it is not reasonable to predict today's price using this old dataset or predict the price of rural city using this urban dataset.With these 3 feature it is insufficient to describe the home, for example,people would also take environment and transportation condition into consideration when buying house. The model is also not robust enough to make predictions, with variance 1/5 to 1/6 of the predicted price."
   ]
  },
  {
   "cell_type": "markdown",
   "metadata": {
    "nbpresent": {
     "id": "acf6104e-303f-4fcd-b1d8-673d712779ea"
    }
   },
   "source": [
    "> **Note**: Once you have completed all of the code implementations and successfully answered each question above, you may finalize your work by exporting the iPython Notebook as an HTML document. You can do this by using the menu above and navigating to  \n",
    "**File -> Download as -> HTML (.html)**. Include the finished document along with this notebook as your submission."
   ]
  }
 ],
 "metadata": {
  "anaconda-cloud": {},
  "kernelspec": {
   "display_name": "Python [default]",
   "language": "python",
   "name": "python2"
  },
  "language_info": {
   "codemirror_mode": {
    "name": "ipython",
    "version": 2
   },
   "file_extension": ".py",
   "mimetype": "text/x-python",
   "name": "python",
   "nbconvert_exporter": "python",
   "pygments_lexer": "ipython2",
   "version": "2.7.12"
  },
  "nbpresent": {
   "slides": {
    "0735cc20-28b8-436c-a57b-08cb2254b481": {
     "id": "0735cc20-28b8-436c-a57b-08cb2254b481",
     "prev": "591e265f-8666-4129-b7bb-ff3b4aa101bd",
     "regions": {
      "bf626279-534d-4aad-8e16-64926072a680": {
       "attrs": {
        "height": 0.8,
        "width": 0.8,
        "x": 0.1,
        "y": 0.1
       },
       "content": {
        "cell": "070a4444-ebc0-48d0-adce-a2b19431cb0b",
        "part": "whole"
       },
       "id": "bf626279-534d-4aad-8e16-64926072a680"
      }
     }
    },
    "1689d064-37a4-474f-8d55-e930c6be9516": {
     "id": "1689d064-37a4-474f-8d55-e930c6be9516",
     "prev": "e54533de-0be2-4522-983e-9c063795b5f4",
     "regions": {
      "3d496ef2-d5b6-4c74-ad87-bcf3d96a0d55": {
       "attrs": {
        "height": 0.8,
        "width": 0.8,
        "x": 0.1,
        "y": 0.1
       },
       "content": {
        "cell": "d0d0feeb-77e5-48ec-bf1f-04bb1bbd36a5",
        "part": "whole"
       },
       "id": "3d496ef2-d5b6-4c74-ad87-bcf3d96a0d55"
      }
     }
    },
    "1acc90ca-0464-430e-bb1d-cc15435a2409": {
     "id": "1acc90ca-0464-430e-bb1d-cc15435a2409",
     "prev": "8d38fe9a-3039-4a95-9cd6-bfef8d1b8399",
     "regions": {
      "8edd5430-9560-479f-a9a9-a6242a2fa18e": {
       "attrs": {
        "height": 0.8,
        "width": 0.8,
        "x": 0.1,
        "y": 0.1
       },
       "content": {
        "cell": "a7cec2f9-6b5e-41e5-8836-8c63d5499ce5",
        "part": "whole"
       },
       "id": "8edd5430-9560-479f-a9a9-a6242a2fa18e"
      }
     }
    },
    "21590079-7112-46d5-b33e-94d756fc0d7e": {
     "id": "21590079-7112-46d5-b33e-94d756fc0d7e",
     "prev": "d19072ca-4cb0-452d-9460-cb95fdca2118",
     "regions": {
      "8a618a89-d4c2-494a-aab8-88beb10d1d67": {
       "attrs": {
        "height": 0.8,
        "width": 0.8,
        "x": 0.1,
        "y": 0.1
       },
       "content": {
        "cell": "73daf9e1-6a03-42d7-9b83-ccd211e2c4f2",
        "part": "whole"
       },
       "id": "8a618a89-d4c2-494a-aab8-88beb10d1d67"
      }
     }
    },
    "22f9e131-1691-4454-a01c-31ca5770fa94": {
     "id": "22f9e131-1691-4454-a01c-31ca5770fa94",
     "prev": "4ea59d54-d25d-4945-ae10-550df29b8526",
     "regions": {
      "f09217c2-771d-4e57-ac65-43fff7c2ce9f": {
       "attrs": {
        "height": 0.8,
        "width": 0.8,
        "x": 0.1,
        "y": 0.1
       },
       "content": {
        "cell": "25bd385e-ed80-4b26-8168-76c602e29239",
        "part": "whole"
       },
       "id": "f09217c2-771d-4e57-ac65-43fff7c2ce9f"
      }
     }
    },
    "2537b650-5330-456a-9dd3-841d9cea1617": {
     "id": "2537b650-5330-456a-9dd3-841d9cea1617",
     "prev": "a4e4377d-be55-41b3-9ba2-9b23139f874a",
     "regions": {
      "0e696f43-c0e6-4162-88df-a5670897db6c": {
       "attrs": {
        "height": 0.8,
        "width": 0.8,
        "x": 0.1,
        "y": 0.1
       },
       "content": {
        "cell": "762a344f-1b5b-422d-a2ee-b3c0e467b42a",
        "part": "whole"
       },
       "id": "0e696f43-c0e6-4162-88df-a5670897db6c"
      }
     }
    },
    "25a08439-b9be-4a58-9e65-bd72e131940b": {
     "id": "25a08439-b9be-4a58-9e65-bd72e131940b",
     "prev": "8eb17857-9d42-49aa-8a3e-71d30e7ede6c",
     "regions": {
      "f963f068-6e92-42fb-a625-26591fc654da": {
       "attrs": {
        "height": 0.8,
        "width": 0.8,
        "x": 0.1,
        "y": 0.1
       },
       "content": {
        "cell": "d871c3ed-ad7e-4bd8-ae3b-97d96a766dc3",
        "part": "whole"
       },
       "id": "f963f068-6e92-42fb-a625-26591fc654da"
      }
     }
    },
    "2b082334-8991-4a67-b5bc-339696e79fc6": {
     "id": "2b082334-8991-4a67-b5bc-339696e79fc6",
     "prev": "c9695100-4cf6-4bea-a352-458dd4571cdc",
     "regions": {
      "4d6887b0-2eab-45c9-a7bf-badfc9c1564f": {
       "attrs": {
        "height": 0.8,
        "width": 0.8,
        "x": 0.1,
        "y": 0.1
       },
       "content": {
        "cell": "846172da-9c6b-4ebc-ba18-a1c175683bcd",
        "part": "whole"
       },
       "id": "4d6887b0-2eab-45c9-a7bf-badfc9c1564f"
      }
     }
    },
    "3512867e-5970-4586-86fa-be1a8a30a527": {
     "id": "3512867e-5970-4586-86fa-be1a8a30a527",
     "prev": "7def1b3f-7fdd-4145-81a7-270e75ce61fd",
     "regions": {
      "bc527911-efa8-4e9e-b298-b354d5887d27": {
       "attrs": {
        "height": 0.8,
        "width": 0.8,
        "x": 0.1,
        "y": 0.1
       },
       "content": {
        "cell": "3f3ed9b1-fcce-4688-a159-3ebe9ccbd4be",
        "part": "whole"
       },
       "id": "bc527911-efa8-4e9e-b298-b354d5887d27"
      }
     }
    },
    "35f1d3ba-b585-4f03-939f-292ccf08ff1f": {
     "id": "35f1d3ba-b585-4f03-939f-292ccf08ff1f",
     "prev": "bc600d3d-a523-4d4c-9f1d-a53d095c90c4",
     "regions": {
      "48b27e0b-c413-4cfe-b29c-a6dbb7606878": {
       "attrs": {
        "height": 0.8,
        "width": 0.8,
        "x": 0.1,
        "y": 0.1
       },
       "content": {
        "cell": "4fa868f3-dffe-4408-bcfb-b555258c650e",
        "part": "whole"
       },
       "id": "48b27e0b-c413-4cfe-b29c-a6dbb7606878"
      }
     }
    },
    "3a8b228a-0f06-445b-9153-488855eee360": {
     "id": "3a8b228a-0f06-445b-9153-488855eee360",
     "prev": "562ab5e0-428f-42f0-b0bc-dd8d3bab3d60",
     "regions": {
      "b459688b-f9b3-46d6-9e56-cd4ea3bdd0ce": {
       "attrs": {
        "height": 0.8,
        "width": 0.8,
        "x": 0.1,
        "y": 0.1
       },
       "content": {
        "cell": "3610398a-60af-4bff-aa92-d4ff7938ae9c",
        "part": "whole"
       },
       "id": "b459688b-f9b3-46d6-9e56-cd4ea3bdd0ce"
      }
     }
    },
    "4ea59d54-d25d-4945-ae10-550df29b8526": {
     "id": "4ea59d54-d25d-4945-ae10-550df29b8526",
     "prev": "35f1d3ba-b585-4f03-939f-292ccf08ff1f",
     "regions": {
      "5c234df9-fcc2-439e-9ae4-dc23d84d451d": {
       "attrs": {
        "height": 0.8,
        "width": 0.8,
        "x": 0.1,
        "y": 0.1
       },
       "content": {
        "cell": "ea81aef5-16e0-41bc-998b-f04af73f7243",
        "part": "whole"
       },
       "id": "5c234df9-fcc2-439e-9ae4-dc23d84d451d"
      }
     }
    },
    "4f48ffa0-8438-49f6-9c8c-c53d8825b833": {
     "id": "4f48ffa0-8438-49f6-9c8c-c53d8825b833",
     "prev": "f8788dce-ce02-492f-9370-7b0948481276",
     "regions": {
      "556e64fb-65c4-45a4-980f-a3a80afdf41d": {
       "attrs": {
        "height": 0.8,
        "width": 0.8,
        "x": 0.1,
        "y": 0.1
       },
       "content": {
        "cell": "b8dfea98-8a58-4108-b6ca-328abb1a2eed",
        "part": "whole"
       },
       "id": "556e64fb-65c4-45a4-980f-a3a80afdf41d"
      }
     }
    },
    "53a44dc3-9519-42fb-bf55-b451dd53198c": {
     "id": "53a44dc3-9519-42fb-bf55-b451dd53198c",
     "prev": "76d33c7d-ae54-4698-83d6-1765791c9e49",
     "regions": {
      "052b665c-bf9e-42b2-be65-0b2a0da9fdb7": {
       "attrs": {
        "height": 0.8,
        "width": 0.8,
        "x": 0.1,
        "y": 0.1
       },
       "content": {
        "cell": "21e3ec07-4904-4871-8938-a9a5462e3df5",
        "part": "whole"
       },
       "id": "052b665c-bf9e-42b2-be65-0b2a0da9fdb7"
      }
     }
    },
    "54bed738-4d41-4d74-baaf-2ebfd96518d4": {
     "id": "54bed738-4d41-4d74-baaf-2ebfd96518d4",
     "prev": "d53f7355-3d22-4d3b-bc0f-3ab8861ebb97",
     "regions": {
      "835f7648-9c18-42d7-ab09-aed7c857aca7": {
       "attrs": {
        "height": 0.8,
        "width": 0.8,
        "x": 0.1,
        "y": 0.1
       },
       "content": {
        "cell": "7d2edfaa-40b4-4384-9db4-7b3b6a87020e",
        "part": "whole"
       },
       "id": "835f7648-9c18-42d7-ab09-aed7c857aca7"
      }
     }
    },
    "562ab5e0-428f-42f0-b0bc-dd8d3bab3d60": {
     "id": "562ab5e0-428f-42f0-b0bc-dd8d3bab3d60",
     "prev": "3512867e-5970-4586-86fa-be1a8a30a527",
     "regions": {
      "a5c79629-488f-4358-998a-ad45fa132f42": {
       "attrs": {
        "height": 0.8,
        "width": 0.8,
        "x": 0.1,
        "y": 0.1
       },
       "content": {
        "cell": "566ebec6-6135-45e4-86c0-ee06296dc257",
        "part": "whole"
       },
       "id": "a5c79629-488f-4358-998a-ad45fa132f42"
      }
     }
    },
    "591e265f-8666-4129-b7bb-ff3b4aa101bd": {
     "id": "591e265f-8666-4129-b7bb-ff3b4aa101bd",
     "prev": "1acc90ca-0464-430e-bb1d-cc15435a2409",
     "regions": {
      "a3a6fac2-4270-440d-928c-1cba6f23c0e7": {
       "attrs": {
        "height": 0.8,
        "width": 0.8,
        "x": 0.1,
        "y": 0.1
       },
       "content": {
        "cell": "65cd9510-964b-44fb-a010-390ade6de4d0",
        "part": "whole"
       },
       "id": "a3a6fac2-4270-440d-928c-1cba6f23c0e7"
      }
     }
    },
    "5b7b3bf3-ac00-44a6-9555-c24e18255581": {
     "id": "5b7b3bf3-ac00-44a6-9555-c24e18255581",
     "prev": "b215d5b3-2488-495f-8674-eee4c3cfde34",
     "regions": {
      "354b4102-4727-4e6e-a7ef-dbc89883ed18": {
       "attrs": {
        "height": 0.8,
        "width": 0.8,
        "x": 0.1,
        "y": 0.1
       },
       "content": {
        "cell": "acf6104e-303f-4fcd-b1d8-673d712779ea",
        "part": "whole"
       },
       "id": "354b4102-4727-4e6e-a7ef-dbc89883ed18"
      }
     }
    },
    "641b1eb9-8792-40bf-9bbe-45608be84c25": {
     "id": "641b1eb9-8792-40bf-9bbe-45608be84c25",
     "prev": "8427365a-35ee-46c8-afdf-2c0545ce7b2f",
     "regions": {
      "479beb4b-2b24-4b69-b11e-8056fc816634": {
       "attrs": {
        "height": 0.8,
        "width": 0.8,
        "x": 0.1,
        "y": 0.1
       },
       "content": {
        "cell": "41a1d1cc-2597-418f-baf9-1a566ee21de1",
        "part": "whole"
       },
       "id": "479beb4b-2b24-4b69-b11e-8056fc816634"
      }
     }
    },
    "65bac6d0-b793-41b5-a3af-b2b8ad01eb5d": {
     "id": "65bac6d0-b793-41b5-a3af-b2b8ad01eb5d",
     "prev": "22f9e131-1691-4454-a01c-31ca5770fa94",
     "regions": {
      "39bb46f8-b2b9-4b00-ab5c-d63bd7d11d65": {
       "attrs": {
        "height": 0.8,
        "width": 0.8,
        "x": 0.1,
        "y": 0.1
       },
       "content": {
        "cell": "1950fb9c-eeb1-498d-9e13-c92a77621a61",
        "part": "whole"
       },
       "id": "39bb46f8-b2b9-4b00-ab5c-d63bd7d11d65"
      }
     }
    },
    "7304436d-53ac-45eb-be04-071fe5b821e4": {
     "id": "7304436d-53ac-45eb-be04-071fe5b821e4",
     "prev": "65bac6d0-b793-41b5-a3af-b2b8ad01eb5d",
     "regions": {
      "25490fc1-34f5-4f2a-86ba-b32f9ca12d1f": {
       "attrs": {
        "height": 0.8,
        "width": 0.8,
        "x": 0.1,
        "y": 0.1
       },
       "content": {
        "cell": "78bc490e-8823-4d18-a19a-62fc29ee9e9d",
        "part": "whole"
       },
       "id": "25490fc1-34f5-4f2a-86ba-b32f9ca12d1f"
      }
     }
    },
    "76d33c7d-ae54-4698-83d6-1765791c9e49": {
     "id": "76d33c7d-ae54-4698-83d6-1765791c9e49",
     "prev": "d576d5d2-c13a-49ee-ae77-6f88a76f459f",
     "regions": {
      "5268075b-7731-49f1-b65b-06fae05d74fd": {
       "attrs": {
        "height": 0.8,
        "width": 0.8,
        "x": 0.1,
        "y": 0.1
       },
       "content": {
        "cell": "d7aee56c-1046-404c-8e6c-b3e934ba7a8b",
        "part": "whole"
       },
       "id": "5268075b-7731-49f1-b65b-06fae05d74fd"
      }
     }
    },
    "7def1b3f-7fdd-4145-81a7-270e75ce61fd": {
     "id": "7def1b3f-7fdd-4145-81a7-270e75ce61fd",
     "prev": "b0428abb-6e3d-4a5c-8af3-afbf28f16931",
     "regions": {
      "9490a983-a015-4f4f-b4b8-8c64701c9537": {
       "attrs": {
        "height": 0.8,
        "width": 0.8,
        "x": 0.1,
        "y": 0.1
       },
       "content": {
        "cell": "74aa6779-ef84-48a8-992d-88690338beea",
        "part": "whole"
       },
       "id": "9490a983-a015-4f4f-b4b8-8c64701c9537"
      }
     }
    },
    "8427365a-35ee-46c8-afdf-2c0545ce7b2f": {
     "id": "8427365a-35ee-46c8-afdf-2c0545ce7b2f",
     "prev": "bd27feb5-8fdb-4d11-9fdf-cd978b370c8c",
     "regions": {
      "48789698-5f6b-421f-bb31-2f6b0aaba121": {
       "attrs": {
        "height": 0.8,
        "width": 0.8,
        "x": 0.1,
        "y": 0.1
       },
       "content": {
        "cell": "8febe42c-6620-4e19-a553-103136a2833d",
        "part": "whole"
       },
       "id": "48789698-5f6b-421f-bb31-2f6b0aaba121"
      }
     }
    },
    "8d38fe9a-3039-4a95-9cd6-bfef8d1b8399": {
     "id": "8d38fe9a-3039-4a95-9cd6-bfef8d1b8399",
     "prev": "d2b00fa3-3976-4d68-8e17-f0370a951881",
     "regions": {
      "7a98cac8-1fec-4636-8b7d-b35af2af5a20": {
       "attrs": {
        "height": 0.8,
        "width": 0.8,
        "x": 0.1,
        "y": 0.1
       },
       "content": {
        "cell": "a3cc81c1-4375-4a82-aa0f-117b0b2446ba",
        "part": "whole"
       },
       "id": "7a98cac8-1fec-4636-8b7d-b35af2af5a20"
      }
     }
    },
    "8eb17857-9d42-49aa-8a3e-71d30e7ede6c": {
     "id": "8eb17857-9d42-49aa-8a3e-71d30e7ede6c",
     "prev": "7304436d-53ac-45eb-be04-071fe5b821e4",
     "regions": {
      "ac77b8bf-9ed2-4da6-a036-315da715668d": {
       "attrs": {
        "height": 0.8,
        "width": 0.8,
        "x": 0.1,
        "y": 0.1
       },
       "content": {
        "cell": "32404742-7997-47b3-8771-853f5c79be28",
        "part": "whole"
       },
       "id": "ac77b8bf-9ed2-4da6-a036-315da715668d"
      }
     }
    },
    "9828630f-a75f-45b0-b340-09c53126bea3": {
     "id": "9828630f-a75f-45b0-b340-09c53126bea3",
     "prev": "25a08439-b9be-4a58-9e65-bd72e131940b",
     "regions": {
      "c608c8c7-b4b7-4cc9-b88e-15de947b2069": {
       "attrs": {
        "height": 0.8,
        "width": 0.8,
        "x": 0.1,
        "y": 0.1
       },
       "content": {
        "cell": "b9c1d075-45a3-423d-bc3c-0b3481796c07",
        "part": "whole"
       },
       "id": "c608c8c7-b4b7-4cc9-b88e-15de947b2069"
      }
     }
    },
    "9af93b6b-c647-4ee1-bcb4-41b6cb2edc45": {
     "id": "9af93b6b-c647-4ee1-bcb4-41b6cb2edc45",
     "prev": "2537b650-5330-456a-9dd3-841d9cea1617",
     "regions": {
      "93c36268-0451-4464-a26a-566688e023a6": {
       "attrs": {
        "height": 0.8,
        "width": 0.8,
        "x": 0.1,
        "y": 0.1
       },
       "content": {
        "cell": "edaaf7a1-0b70-484a-814c-551ff00f8229",
        "part": "whole"
       },
       "id": "93c36268-0451-4464-a26a-566688e023a6"
      }
     }
    },
    "a4e4377d-be55-41b3-9ba2-9b23139f874a": {
     "id": "a4e4377d-be55-41b3-9ba2-9b23139f874a",
     "prev": "f1b348fc-15bd-4074-be35-641e3920e50b",
     "regions": {
      "a91ef105-9e7b-467a-9046-e1ba57cdd34b": {
       "attrs": {
        "height": 0.8,
        "width": 0.8,
        "x": 0.1,
        "y": 0.1
       },
       "content": {
        "cell": "489b1f4d-c2e4-4b40-bc8f-a53835a37d19",
        "part": "whole"
       },
       "id": "a91ef105-9e7b-467a-9046-e1ba57cdd34b"
      }
     }
    },
    "b0428abb-6e3d-4a5c-8af3-afbf28f16931": {
     "id": "b0428abb-6e3d-4a5c-8af3-afbf28f16931",
     "prev": "53a44dc3-9519-42fb-bf55-b451dd53198c",
     "regions": {
      "abd14a2a-841a-4796-80ba-ac2a1789dccd": {
       "attrs": {
        "height": 0.8,
        "width": 0.8,
        "x": 0.1,
        "y": 0.1
       },
       "content": {
        "cell": "937893bc-7460-4495-b9fd-fc6dfec0aed2",
        "part": "whole"
       },
       "id": "abd14a2a-841a-4796-80ba-ac2a1789dccd"
      }
     }
    },
    "b1cdab49-98d3-40d1-9224-b61fdc67a627": {
     "id": "b1cdab49-98d3-40d1-9224-b61fdc67a627",
     "prev": "f931e5fd-2c25-4b16-ae33-aacfcacf354e",
     "regions": {
      "915d11f0-c15f-4095-a491-53040cdced44": {
       "attrs": {
        "height": 0.8,
        "width": 0.8,
        "x": 0.1,
        "y": 0.1
       },
       "content": {
        "cell": "cc29c88a-d236-46ef-acdd-efbb4d8f6a93",
        "part": "whole"
       },
       "id": "915d11f0-c15f-4095-a491-53040cdced44"
      }
     }
    },
    "b215d5b3-2488-495f-8674-eee4c3cfde34": {
     "id": "b215d5b3-2488-495f-8674-eee4c3cfde34",
     "prev": "1689d064-37a4-474f-8d55-e930c6be9516",
     "regions": {
      "0672f3f7-1d9a-4f2c-9a3e-31db6b2173ac": {
       "attrs": {
        "height": 0.8,
        "width": 0.8,
        "x": 0.1,
        "y": 0.1
       },
       "content": {
        "cell": "baef19f7-ba05-4fb2-885d-3a44ed11ecda",
        "part": "whole"
       },
       "id": "0672f3f7-1d9a-4f2c-9a3e-31db6b2173ac"
      }
     }
    },
    "bc600d3d-a523-4d4c-9f1d-a53d095c90c4": {
     "id": "bc600d3d-a523-4d4c-9f1d-a53d095c90c4",
     "prev": "54bed738-4d41-4d74-baaf-2ebfd96518d4",
     "regions": {
      "f309b518-e13a-4e5c-ace3-67595ef5b732": {
       "attrs": {
        "height": 0.8,
        "width": 0.8,
        "x": 0.1,
        "y": 0.1
       },
       "content": {
        "cell": "5d84591a-79ef-494d-9cda-955416a6c4e3",
        "part": "whole"
       },
       "id": "f309b518-e13a-4e5c-ace3-67595ef5b732"
      }
     }
    },
    "bd27feb5-8fdb-4d11-9fdf-cd978b370c8c": {
     "id": "bd27feb5-8fdb-4d11-9fdf-cd978b370c8c",
     "prev": "f590b57f-c31a-45a8-99cf-a6147a64ab40",
     "regions": {
      "3a1bdebd-a94d-4538-9028-7e536b52e989": {
       "attrs": {
        "height": 0.8,
        "width": 0.8,
        "x": 0.1,
        "y": 0.1
       },
       "content": {
        "cell": "79c51026-0b91-41c5-a82e-3bb6591df171",
        "part": "whole"
       },
       "id": "3a1bdebd-a94d-4538-9028-7e536b52e989"
      }
     }
    },
    "beae3119-5931-4f22-b992-7fc4c2bed8fb": {
     "id": "beae3119-5931-4f22-b992-7fc4c2bed8fb",
     "prev": "2b082334-8991-4a67-b5bc-339696e79fc6",
     "regions": {
      "504aaced-0e3e-43e6-9244-c8afe103e9e1": {
       "attrs": {
        "height": 0.8,
        "width": 0.8,
        "x": 0.1,
        "y": 0.1
       },
       "content": {
        "cell": "e37dc399-44b9-4f4d-b18f-fe12f37c808c",
        "part": "whole"
       },
       "id": "504aaced-0e3e-43e6-9244-c8afe103e9e1"
      }
     }
    },
    "c6f610fc-075d-47ed-b5ee-5e87b832e13b": {
     "id": "c6f610fc-075d-47ed-b5ee-5e87b832e13b",
     "prev": "21590079-7112-46d5-b33e-94d756fc0d7e",
     "regions": {
      "0ab756bd-d202-470b-b476-6a55131b2a7c": {
       "attrs": {
        "height": 0.8,
        "width": 0.8,
        "x": 0.1,
        "y": 0.1
       },
       "content": {
        "cell": "7df7fb1d-4901-4559-96b7-6773208fc075",
        "part": "whole"
       },
       "id": "0ab756bd-d202-470b-b476-6a55131b2a7c"
      }
     }
    },
    "c9695100-4cf6-4bea-a352-458dd4571cdc": {
     "id": "c9695100-4cf6-4bea-a352-458dd4571cdc",
     "prev": "9af93b6b-c647-4ee1-bcb4-41b6cb2edc45",
     "regions": {
      "8568a382-500c-43f4-82c5-a8db07fa367a": {
       "attrs": {
        "height": 0.8,
        "width": 0.8,
        "x": 0.1,
        "y": 0.1
       },
       "content": {
        "cell": "905ef7e0-5212-4094-8954-e657d14d9ecc",
        "part": "whole"
       },
       "id": "8568a382-500c-43f4-82c5-a8db07fa367a"
      }
     }
    },
    "d19072ca-4cb0-452d-9460-cb95fdca2118": {
     "id": "d19072ca-4cb0-452d-9460-cb95fdca2118",
     "prev": "0735cc20-28b8-436c-a57b-08cb2254b481",
     "regions": {
      "dd47054d-2bde-426f-a243-7c6da975355d": {
       "attrs": {
        "height": 0.8,
        "width": 0.8,
        "x": 0.1,
        "y": 0.1
       },
       "content": {
        "cell": "2c9f5b70-f844-4bfb-8fa4-4d7f5c50e13b",
        "part": "whole"
       },
       "id": "dd47054d-2bde-426f-a243-7c6da975355d"
      }
     }
    },
    "d2b00fa3-3976-4d68-8e17-f0370a951881": {
     "id": "d2b00fa3-3976-4d68-8e17-f0370a951881",
     "prev": "b1cdab49-98d3-40d1-9224-b61fdc67a627",
     "regions": {
      "99ccf7a9-8471-4b6f-b1b2-72d726d49742": {
       "attrs": {
        "height": 0.8,
        "width": 0.8,
        "x": 0.1,
        "y": 0.1
       },
       "content": {
        "cell": "81557e71-c8b2-40ff-ba24-1983345edc58",
        "part": "whole"
       },
       "id": "99ccf7a9-8471-4b6f-b1b2-72d726d49742"
      }
     }
    },
    "d53f7355-3d22-4d3b-bc0f-3ab8861ebb97": {
     "id": "d53f7355-3d22-4d3b-bc0f-3ab8861ebb97",
     "prev": "4f48ffa0-8438-49f6-9c8c-c53d8825b833",
     "regions": {
      "ea0d151c-bdd1-4e9e-884d-11aca7a75d9c": {
       "attrs": {
        "height": 0.8,
        "width": 0.8,
        "x": 0.1,
        "y": 0.1
       },
       "content": {
        "cell": "14054cd5-08b7-4655-b144-e62fe7ee71bb",
        "part": "whole"
       },
       "id": "ea0d151c-bdd1-4e9e-884d-11aca7a75d9c"
      }
     }
    },
    "d576d5d2-c13a-49ee-ae77-6f88a76f459f": {
     "id": "d576d5d2-c13a-49ee-ae77-6f88a76f459f",
     "prev": "beae3119-5931-4f22-b992-7fc4c2bed8fb",
     "regions": {
      "56a63d47-0720-48d6-a6dd-b596125f8e56": {
       "attrs": {
        "height": 0.8,
        "width": 0.8,
        "x": 0.1,
        "y": 0.1
       },
       "content": {
        "cell": "82bee64f-8a7f-49b7-b52d-79521b82de9f",
        "part": "whole"
       },
       "id": "56a63d47-0720-48d6-a6dd-b596125f8e56"
      }
     }
    },
    "e172a9c8-f4d4-4ac1-b287-ffd6fb6b5bfb": {
     "id": "e172a9c8-f4d4-4ac1-b287-ffd6fb6b5bfb",
     "prev": null,
     "regions": {
      "76f151ea-2ba7-4d5a-a379-b582d4d85999": {
       "attrs": {
        "height": 0.8,
        "width": 0.8,
        "x": 0.1,
        "y": 0.1
       },
       "content": {
        "cell": "fe207323-f5ae-42ab-8a02-6ea151307582",
        "part": "whole"
       },
       "id": "76f151ea-2ba7-4d5a-a379-b582d4d85999"
      }
     }
    },
    "e54533de-0be2-4522-983e-9c063795b5f4": {
     "id": "e54533de-0be2-4522-983e-9c063795b5f4",
     "prev": "3a8b228a-0f06-445b-9153-488855eee360",
     "regions": {
      "c6c46018-900a-42bb-acf4-3276dcba58ac": {
       "attrs": {
        "height": 0.8,
        "width": 0.8,
        "x": 0.1,
        "y": 0.1
       },
       "content": {
        "cell": "9659b2c0-bb77-4457-a407-84d720d4fc58",
        "part": "whole"
       },
       "id": "c6c46018-900a-42bb-acf4-3276dcba58ac"
      }
     }
    },
    "f1b348fc-15bd-4074-be35-641e3920e50b": {
     "id": "f1b348fc-15bd-4074-be35-641e3920e50b",
     "prev": "641b1eb9-8792-40bf-9bbe-45608be84c25",
     "regions": {
      "fef179ba-d5ee-4428-a4ab-c832f233c288": {
       "attrs": {
        "height": 0.8,
        "width": 0.8,
        "x": 0.1,
        "y": 0.1
       },
       "content": {
        "cell": "993009be-a811-44df-a769-69f46f64ad7a",
        "part": "whole"
       },
       "id": "fef179ba-d5ee-4428-a4ab-c832f233c288"
      }
     }
    },
    "f590b57f-c31a-45a8-99cf-a6147a64ab40": {
     "id": "f590b57f-c31a-45a8-99cf-a6147a64ab40",
     "prev": "c6f610fc-075d-47ed-b5ee-5e87b832e13b",
     "regions": {
      "96b90361-b32b-47ce-8aaf-017e2245aa5a": {
       "attrs": {
        "height": 0.8,
        "width": 0.8,
        "x": 0.1,
        "y": 0.1
       },
       "content": {
        "cell": "be83e1d5-80ad-44f7-a675-97eb80012635",
        "part": "whole"
       },
       "id": "96b90361-b32b-47ce-8aaf-017e2245aa5a"
      }
     }
    },
    "f8788dce-ce02-492f-9370-7b0948481276": {
     "id": "f8788dce-ce02-492f-9370-7b0948481276",
     "prev": "fbb345dc-da43-4323-999c-e605b20605d2",
     "regions": {
      "0939bc23-1dcb-4c2c-ad99-c35d4cee2bcf": {
       "attrs": {
        "height": 0.8,
        "width": 0.8,
        "x": 0.1,
        "y": 0.1
       },
       "content": {
        "cell": "44b198c7-7bbf-4420-a227-353ae00e5a24",
        "part": "whole"
       },
       "id": "0939bc23-1dcb-4c2c-ad99-c35d4cee2bcf"
      }
     }
    },
    "f931e5fd-2c25-4b16-ae33-aacfcacf354e": {
     "id": "f931e5fd-2c25-4b16-ae33-aacfcacf354e",
     "prev": "9828630f-a75f-45b0-b340-09c53126bea3",
     "regions": {
      "42d16f21-878e-4b8f-8007-f305422c367c": {
       "attrs": {
        "height": 0.8,
        "width": 0.8,
        "x": 0.1,
        "y": 0.1
       },
       "content": {
        "cell": "64ed7de9-67ec-4ea1-b2c0-3f8e2bccf6d4",
        "part": "whole"
       },
       "id": "42d16f21-878e-4b8f-8007-f305422c367c"
      }
     }
    },
    "fbb345dc-da43-4323-999c-e605b20605d2": {
     "id": "fbb345dc-da43-4323-999c-e605b20605d2",
     "prev": "e172a9c8-f4d4-4ac1-b287-ffd6fb6b5bfb",
     "regions": {
      "976cf84d-e3ac-4ef6-9bf1-d9a2d6049c59": {
       "attrs": {
        "height": 0.8,
        "width": 0.8,
        "x": 0.1,
        "y": 0.1
       },
       "content": {
        "cell": "23d355e5-2ec2-4987-91fb-e70c0bb26b0e",
        "part": "whole"
       },
       "id": "976cf84d-e3ac-4ef6-9bf1-d9a2d6049c59"
      }
     }
    }
   },
   "themes": {}
  }
 },
 "nbformat": 4,
 "nbformat_minor": 0
}
